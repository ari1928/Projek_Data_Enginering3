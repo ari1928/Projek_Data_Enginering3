{
 "cells": [
  {
   "cell_type": "code",
   "execution_count": 1,
   "id": "f109e784",
   "metadata": {},
   "outputs": [],
   "source": [
    "import json\n",
    "import psycopg2 as pg\n",
    "import pandas as pd\n",
    "from zipfile import ZipFile"
   ]
  },
  {
   "cell_type": "code",
   "execution_count": 2,
   "id": "82178f4c",
   "metadata": {},
   "outputs": [
    {
     "name": "stdout",
     "output_type": "stream",
     "text": [
      "Collecting psycopg2\n",
      "  Downloading psycopg2-2.9.4-cp39-cp39-win_amd64.whl (1.2 MB)\n",
      "Installing collected packages: psycopg2\n",
      "Successfully installed psycopg2-2.9.4\n"
     ]
    }
   ],
   "source": [
    "!pip install psycopg2"
   ]
  },
  {
   "cell_type": "code",
   "execution_count": 2,
   "id": "e0be8699",
   "metadata": {},
   "outputs": [],
   "source": [
    "from sqlalchemy import create_engine"
   ]
  },
  {
   "cell_type": "code",
   "execution_count": 3,
   "id": "4b6c8e7f",
   "metadata": {},
   "outputs": [],
   "source": [
    "data_json = open(\"project_3_de.json\")\n",
    "schema_json = json.loads(data_json.read())"
   ]
  },
  {
   "cell_type": "code",
   "execution_count": 4,
   "id": "43eb15a4",
   "metadata": {},
   "outputs": [
    {
     "data": {
      "text/plain": [
       "[{'column_name': 'first_name',\n",
       "  'column_type': 'varchar(256)',\n",
       "  'is_primary_key': False,\n",
       "  'is_unique': False,\n",
       "  'is_null_able': 'NOT NULL'},\n",
       " {'column_name': 'last_name',\n",
       "  'column_type': 'varchar(256)',\n",
       "  'is_primary_key': False,\n",
       "  'is_unique': False,\n",
       "  'is_null_able': 'NOT NULL'},\n",
       " {'column_name': 'email',\n",
       "  'column_type': 'varchar(256)',\n",
       "  'is_primary_key': False,\n",
       "  'is_unique': False,\n",
       "  'is_null_able': 'NOT NULL'},\n",
       " {'column_name': 'address',\n",
       "  'column_type': 'varchar(256)',\n",
       "  'is_primary_key': False,\n",
       "  'is_unique': False,\n",
       "  'is_null_able': 'NOT NULL'},\n",
       " {'column_name': 'created_at',\n",
       "  'column_type': 'timestamp',\n",
       "  'is_primary_key': False,\n",
       "  'is_unique': False,\n",
       "  'is_null_able': 'NOT NULL'}]"
      ]
     },
     "execution_count": 4,
     "metadata": {},
     "output_type": "execute_result"
    }
   ],
   "source": [
    "schema_json"
   ]
  },
  {
   "cell_type": "code",
   "execution_count": 33,
   "id": "d6119863",
   "metadata": {},
   "outputs": [],
   "source": [
    "create_schema_sql = \"\"\"create table user_address_2018_snapshots {};\"\"\"\n",
    "zip_small_file = 'dataset-small.zip'\n",
    "result_ingestion_check_sql = 'result_ingestion_user_address.sql'\n",
    "small_file_name = 'dataset-small.csv'\n",
    "database='shipping_orders'\n",
    "user='postgres'\n",
    "password='mekanika'\n",
    "host='127.0.0.1'\n",
    "port='5432'\n",
    "table_name = 'user_address_2018_snapshots'"
   ]
  },
  {
   "cell_type": "code",
   "execution_count": 34,
   "id": "f14fe707",
   "metadata": {},
   "outputs": [],
   "source": [
    "list_schema = []\n",
    "for c in schema_json:\n",
    "     col_name = c['column_name']\n",
    "     col_type = c['column_type']\n",
    "     constraint = c['is_null_able']\n",
    "     ddl_list = [col_name, col_type, constraint]\n",
    "     list_schema.append(ddl_list)\n",
    "\n",
    "list_schema_2 = []\n",
    "for l in list_schema:\n",
    "     s = ' '.join(l)\n",
    "     list_schema_2.append(s)\n",
    "\n",
    "create_schema_sql_final = create_schema_sql.format(tuple(list_schema_2)).replace(\"'\", \"\")\n"
   ]
  },
  {
   "cell_type": "code",
   "execution_count": 35,
   "id": "fcb3bdbc",
   "metadata": {},
   "outputs": [
    {
     "name": "stdout",
     "output_type": "stream",
     "text": [
      "table already created...\n"
     ]
    }
   ],
   "source": [
    "#Init Posgres conn\n",
    "conn = pg.connect(database=database,\n",
    "                  user=user,\n",
    "                  password=password,\n",
    "                  host=host,\n",
    "                  port=port)\n",
    "\n",
    "conn.autocommit=True\n",
    "cursor=conn.cursor()\n",
    "\n",
    "try:\n",
    "    cursor.execute(create_schema_sql_final)\n",
    "    print(\"DDL schema created succesfully...\")\n",
    "except pg.errors.DuplicateTable:\n",
    "    print(\"table already created...\")"
   ]
  },
  {
   "cell_type": "code",
   "execution_count": 39,
   "id": "ac4d87ff",
   "metadata": {},
   "outputs": [
    {
     "name": "stdout",
     "output_type": "stream",
     "text": [
      "Total inserted rows: 89\n",
      "Inital created_at: 2018-02-03T17:10:31.945000Z\n",
      "Last created_at: 2018-12-23T02:30:49.313000Z\n"
     ]
    }
   ],
   "source": [
    "#Load zipped file to dataframe\n",
    "zf = ZipFile(zip_small_file)\n",
    "df = pd.read_csv(zf.open(small_file_name), header=None)\n",
    "#chunk ada dsini, performance system yang menjalan python code yg perlu dioptimalkan\n",
    "\n",
    "col_name_df = [c['column_name'] for c in schema_json]\n",
    "df.columns = col_name_df\n",
    "\n",
    "df_filtered = df[(df['created_at'] >= '2018-02-01') & (df['created_at'] < '2018-12-31')]\n",
    "\n",
    "#create engine\n",
    "engine = create_engine(f'postgresql://{user}:{password}@{host}:{port}/{database}')\n",
    "\n",
    "#insert to postgres\n",
    "df_filtered.to_sql(table_name, engine, if_exists='append', index=False) \n",
    "#chunk ada dsini, performance postgresql yg harus di optimalkan\n",
    "\n",
    "print(f'Total inserted rows: {len(df_filtered)}')\n",
    "print(f'Inital created_at: {df_filtered.created_at.min()}')\n",
    "print(f'Last created_at: {df_filtered.created_at.max()}')\n",
    "\n",
    "cursor.execute(open(result_ingestion_check_sql, 'r').read())\n",
    "result = cursor.fetchall()\n",
    "print(result)"
   ]
  },
  {
   "cell_type": "code",
   "execution_count": null,
   "id": "d50a54d0",
   "metadata": {},
   "outputs": [],
   "source": []
  }
 ],
 "metadata": {
  "kernelspec": {
   "display_name": "Python 3 (ipykernel)",
   "language": "python",
   "name": "python3"
  },
  "language_info": {
   "codemirror_mode": {
    "name": "ipython",
    "version": 3
   },
   "file_extension": ".py",
   "mimetype": "text/x-python",
   "name": "python",
   "nbconvert_exporter": "python",
   "pygments_lexer": "ipython3",
   "version": "3.9.12"
  }
 },
 "nbformat": 4,
 "nbformat_minor": 5
}
